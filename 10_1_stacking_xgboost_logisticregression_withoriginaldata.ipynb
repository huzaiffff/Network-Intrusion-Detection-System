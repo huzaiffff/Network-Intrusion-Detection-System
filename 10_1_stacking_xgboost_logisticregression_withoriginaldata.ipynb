{
  "cells": [
    {
      "cell_type": "markdown",
      "metadata": {
        "id": "view-in-github",
        "colab_type": "text"
      },
      "source": [
        "<a href=\"https://colab.research.google.com/github/huzaiffff/lab/blob/ids/10_1_stacking_xgboost_logisticregression_withoriginaldata.ipynb\" target=\"_parent\"><img src=\"https://colab.research.google.com/assets/colab-badge.svg\" alt=\"Open In Colab\"/></a>"
      ]
    },
    {
      "cell_type": "code",
      "execution_count": null,
      "id": "7c78436a",
      "metadata": {
        "colab": {
          "base_uri": "https://localhost:8080/"
        },
        "id": "7c78436a",
        "outputId": "7b74c68f-de90-4457-890d-f269efd2bedc"
      },
      "outputs": [
        {
          "output_type": "stream",
          "name": "stdout",
          "text": [
            "Looking in indexes: https://pypi.org/simple, https://us-python.pkg.dev/colab-wheels/public/simple/\n",
            "Collecting catboost\n",
            "  Downloading catboost-1.1.1-cp39-none-manylinux1_x86_64.whl (76.6 MB)\n",
            "\u001b[2K     \u001b[90m━━━━━━━━━━━━━━━━━━━━━━━━━━━━━━━━━━━━━━━━\u001b[0m \u001b[32m76.6/76.6 MB\u001b[0m \u001b[31m13.0 MB/s\u001b[0m eta \u001b[36m0:00:00\u001b[0m\n",
            "\u001b[?25hRequirement already satisfied: graphviz in /usr/local/lib/python3.9/dist-packages (from catboost) (0.20.1)\n",
            "Requirement already satisfied: numpy>=1.16.0 in /usr/local/lib/python3.9/dist-packages (from catboost) (1.22.4)\n",
            "Requirement already satisfied: pandas>=0.24.0 in /usr/local/lib/python3.9/dist-packages (from catboost) (1.5.3)\n",
            "Requirement already satisfied: matplotlib in /usr/local/lib/python3.9/dist-packages (from catboost) (3.7.1)\n",
            "Requirement already satisfied: six in /usr/local/lib/python3.9/dist-packages (from catboost) (1.16.0)\n",
            "Requirement already satisfied: plotly in /usr/local/lib/python3.9/dist-packages (from catboost) (5.13.1)\n",
            "Requirement already satisfied: scipy in /usr/local/lib/python3.9/dist-packages (from catboost) (1.10.1)\n",
            "Requirement already satisfied: pytz>=2020.1 in /usr/local/lib/python3.9/dist-packages (from pandas>=0.24.0->catboost) (2022.7.1)\n",
            "Requirement already satisfied: python-dateutil>=2.8.1 in /usr/local/lib/python3.9/dist-packages (from pandas>=0.24.0->catboost) (2.8.2)\n",
            "Requirement already satisfied: pyparsing>=2.3.1 in /usr/local/lib/python3.9/dist-packages (from matplotlib->catboost) (3.0.9)\n",
            "Requirement already satisfied: packaging>=20.0 in /usr/local/lib/python3.9/dist-packages (from matplotlib->catboost) (23.1)\n",
            "Requirement already satisfied: pillow>=6.2.0 in /usr/local/lib/python3.9/dist-packages (from matplotlib->catboost) (8.4.0)\n",
            "Requirement already satisfied: kiwisolver>=1.0.1 in /usr/local/lib/python3.9/dist-packages (from matplotlib->catboost) (1.4.4)\n",
            "Requirement already satisfied: cycler>=0.10 in /usr/local/lib/python3.9/dist-packages (from matplotlib->catboost) (0.11.0)\n",
            "Requirement already satisfied: importlib-resources>=3.2.0 in /usr/local/lib/python3.9/dist-packages (from matplotlib->catboost) (5.12.0)\n",
            "Requirement already satisfied: fonttools>=4.22.0 in /usr/local/lib/python3.9/dist-packages (from matplotlib->catboost) (4.39.3)\n",
            "Requirement already satisfied: contourpy>=1.0.1 in /usr/local/lib/python3.9/dist-packages (from matplotlib->catboost) (1.0.7)\n",
            "Requirement already satisfied: tenacity>=6.2.0 in /usr/local/lib/python3.9/dist-packages (from plotly->catboost) (8.2.2)\n",
            "Requirement already satisfied: zipp>=3.1.0 in /usr/local/lib/python3.9/dist-packages (from importlib-resources>=3.2.0->matplotlib->catboost) (3.15.0)\n",
            "Installing collected packages: catboost\n",
            "Successfully installed catboost-1.1.1\n",
            "Looking in indexes: https://pypi.org/simple, https://us-python.pkg.dev/colab-wheels/public/simple/\n",
            "Requirement already satisfied: scikit-learn in /usr/local/lib/python3.9/dist-packages (1.2.2)\n",
            "Requirement already satisfied: scipy>=1.3.2 in /usr/local/lib/python3.9/dist-packages (from scikit-learn) (1.10.1)\n",
            "Requirement already satisfied: threadpoolctl>=2.0.0 in /usr/local/lib/python3.9/dist-packages (from scikit-learn) (3.1.0)\n",
            "Requirement already satisfied: joblib>=1.1.1 in /usr/local/lib/python3.9/dist-packages (from scikit-learn) (1.2.0)\n",
            "Requirement already satisfied: numpy>=1.17.3 in /usr/local/lib/python3.9/dist-packages (from scikit-learn) (1.22.4)\n",
            "Looking in indexes: https://pypi.org/simple, https://us-python.pkg.dev/colab-wheels/public/simple/\n",
            "Requirement already satisfied: ipywidgets in /usr/local/lib/python3.9/dist-packages (7.7.1)\n",
            "Requirement already satisfied: ipython>=4.0.0 in /usr/local/lib/python3.9/dist-packages (from ipywidgets) (7.34.0)\n",
            "Requirement already satisfied: traitlets>=4.3.1 in /usr/local/lib/python3.9/dist-packages (from ipywidgets) (5.7.1)\n",
            "Requirement already satisfied: ipython-genutils~=0.2.0 in /usr/local/lib/python3.9/dist-packages (from ipywidgets) (0.2.0)\n",
            "Requirement already satisfied: ipykernel>=4.5.1 in /usr/local/lib/python3.9/dist-packages (from ipywidgets) (5.5.6)\n",
            "Requirement already satisfied: jupyterlab-widgets>=1.0.0 in /usr/local/lib/python3.9/dist-packages (from ipywidgets) (3.0.7)\n",
            "Requirement already satisfied: widgetsnbextension~=3.6.0 in /usr/local/lib/python3.9/dist-packages (from ipywidgets) (3.6.4)\n",
            "Requirement already satisfied: jupyter-client in /usr/local/lib/python3.9/dist-packages (from ipykernel>=4.5.1->ipywidgets) (6.1.12)\n",
            "Requirement already satisfied: tornado>=4.2 in /usr/local/lib/python3.9/dist-packages (from ipykernel>=4.5.1->ipywidgets) (6.2)\n",
            "Requirement already satisfied: pexpect>4.3 in /usr/local/lib/python3.9/dist-packages (from ipython>=4.0.0->ipywidgets) (4.8.0)\n",
            "Requirement already satisfied: setuptools>=18.5 in /usr/local/lib/python3.9/dist-packages (from ipython>=4.0.0->ipywidgets) (67.6.1)\n",
            "Requirement already satisfied: pygments in /usr/local/lib/python3.9/dist-packages (from ipython>=4.0.0->ipywidgets) (2.14.0)\n",
            "Requirement already satisfied: decorator in /usr/local/lib/python3.9/dist-packages (from ipython>=4.0.0->ipywidgets) (4.4.2)\n",
            "Requirement already satisfied: matplotlib-inline in /usr/local/lib/python3.9/dist-packages (from ipython>=4.0.0->ipywidgets) (0.1.6)\n",
            "Collecting jedi>=0.16\n",
            "  Downloading jedi-0.18.2-py2.py3-none-any.whl (1.6 MB)\n",
            "\u001b[2K     \u001b[90m━━━━━━━━━━━━━━━━━━━━━━━━━━━━━━━━━━━━━━━━\u001b[0m \u001b[32m1.6/1.6 MB\u001b[0m \u001b[31m21.2 MB/s\u001b[0m eta \u001b[36m0:00:00\u001b[0m\n",
            "\u001b[?25hRequirement already satisfied: pickleshare in /usr/local/lib/python3.9/dist-packages (from ipython>=4.0.0->ipywidgets) (0.7.5)\n",
            "Requirement already satisfied: backcall in /usr/local/lib/python3.9/dist-packages (from ipython>=4.0.0->ipywidgets) (0.2.0)\n",
            "Requirement already satisfied: prompt-toolkit!=3.0.0,!=3.0.1,<3.1.0,>=2.0.0 in /usr/local/lib/python3.9/dist-packages (from ipython>=4.0.0->ipywidgets) (3.0.38)\n",
            "Requirement already satisfied: notebook>=4.4.1 in /usr/local/lib/python3.9/dist-packages (from widgetsnbextension~=3.6.0->ipywidgets) (6.4.8)\n",
            "Requirement already satisfied: parso<0.9.0,>=0.8.0 in /usr/local/lib/python3.9/dist-packages (from jedi>=0.16->ipython>=4.0.0->ipywidgets) (0.8.3)\n",
            "Requirement already satisfied: terminado>=0.8.3 in /usr/local/lib/python3.9/dist-packages (from notebook>=4.4.1->widgetsnbextension~=3.6.0->ipywidgets) (0.17.1)\n",
            "Requirement already satisfied: jupyter-core>=4.6.1 in /usr/local/lib/python3.9/dist-packages (from notebook>=4.4.1->widgetsnbextension~=3.6.0->ipywidgets) (5.3.0)\n",
            "Requirement already satisfied: pyzmq>=17 in /usr/local/lib/python3.9/dist-packages (from notebook>=4.4.1->widgetsnbextension~=3.6.0->ipywidgets) (23.2.1)\n",
            "Requirement already satisfied: nbformat in /usr/local/lib/python3.9/dist-packages (from notebook>=4.4.1->widgetsnbextension~=3.6.0->ipywidgets) (5.8.0)\n",
            "Requirement already satisfied: argon2-cffi in /usr/local/lib/python3.9/dist-packages (from notebook>=4.4.1->widgetsnbextension~=3.6.0->ipywidgets) (21.3.0)\n",
            "Requirement already satisfied: Send2Trash>=1.8.0 in /usr/local/lib/python3.9/dist-packages (from notebook>=4.4.1->widgetsnbextension~=3.6.0->ipywidgets) (1.8.0)\n",
            "Requirement already satisfied: prometheus-client in /usr/local/lib/python3.9/dist-packages (from notebook>=4.4.1->widgetsnbextension~=3.6.0->ipywidgets) (0.16.0)\n",
            "Requirement already satisfied: nbconvert in /usr/local/lib/python3.9/dist-packages (from notebook>=4.4.1->widgetsnbextension~=3.6.0->ipywidgets) (6.5.4)\n",
            "Requirement already satisfied: nest-asyncio>=1.5 in /usr/local/lib/python3.9/dist-packages (from notebook>=4.4.1->widgetsnbextension~=3.6.0->ipywidgets) (1.5.6)\n",
            "Requirement already satisfied: jinja2 in /usr/local/lib/python3.9/dist-packages (from notebook>=4.4.1->widgetsnbextension~=3.6.0->ipywidgets) (3.1.2)\n",
            "Requirement already satisfied: python-dateutil>=2.1 in /usr/local/lib/python3.9/dist-packages (from jupyter-client->ipykernel>=4.5.1->ipywidgets) (2.8.2)\n",
            "Requirement already satisfied: ptyprocess>=0.5 in /usr/local/lib/python3.9/dist-packages (from pexpect>4.3->ipython>=4.0.0->ipywidgets) (0.7.0)\n",
            "Requirement already satisfied: wcwidth in /usr/local/lib/python3.9/dist-packages (from prompt-toolkit!=3.0.0,!=3.0.1,<3.1.0,>=2.0.0->ipython>=4.0.0->ipywidgets) (0.2.6)\n",
            "Requirement already satisfied: platformdirs>=2.5 in /usr/local/lib/python3.9/dist-packages (from jupyter-core>=4.6.1->notebook>=4.4.1->widgetsnbextension~=3.6.0->ipywidgets) (3.2.0)\n",
            "Requirement already satisfied: six>=1.5 in /usr/local/lib/python3.9/dist-packages (from python-dateutil>=2.1->jupyter-client->ipykernel>=4.5.1->ipywidgets) (1.16.0)\n",
            "Requirement already satisfied: argon2-cffi-bindings in /usr/local/lib/python3.9/dist-packages (from argon2-cffi->notebook>=4.4.1->widgetsnbextension~=3.6.0->ipywidgets) (21.2.0)\n",
            "Requirement already satisfied: MarkupSafe>=2.0 in /usr/local/lib/python3.9/dist-packages (from jinja2->notebook>=4.4.1->widgetsnbextension~=3.6.0->ipywidgets) (2.1.2)\n",
            "Requirement already satisfied: pandocfilters>=1.4.1 in /usr/local/lib/python3.9/dist-packages (from nbconvert->notebook>=4.4.1->widgetsnbextension~=3.6.0->ipywidgets) (1.5.0)\n",
            "Requirement already satisfied: bleach in /usr/local/lib/python3.9/dist-packages (from nbconvert->notebook>=4.4.1->widgetsnbextension~=3.6.0->ipywidgets) (6.0.0)\n",
            "Requirement already satisfied: defusedxml in /usr/local/lib/python3.9/dist-packages (from nbconvert->notebook>=4.4.1->widgetsnbextension~=3.6.0->ipywidgets) (0.7.1)\n",
            "Requirement already satisfied: entrypoints>=0.2.2 in /usr/local/lib/python3.9/dist-packages (from nbconvert->notebook>=4.4.1->widgetsnbextension~=3.6.0->ipywidgets) (0.4)\n",
            "Requirement already satisfied: beautifulsoup4 in /usr/local/lib/python3.9/dist-packages (from nbconvert->notebook>=4.4.1->widgetsnbextension~=3.6.0->ipywidgets) (4.11.2)\n",
            "Requirement already satisfied: lxml in /usr/local/lib/python3.9/dist-packages (from nbconvert->notebook>=4.4.1->widgetsnbextension~=3.6.0->ipywidgets) (4.9.2)\n",
            "Requirement already satisfied: mistune<2,>=0.8.1 in /usr/local/lib/python3.9/dist-packages (from nbconvert->notebook>=4.4.1->widgetsnbextension~=3.6.0->ipywidgets) (0.8.4)\n",
            "Requirement already satisfied: tinycss2 in /usr/local/lib/python3.9/dist-packages (from nbconvert->notebook>=4.4.1->widgetsnbextension~=3.6.0->ipywidgets) (1.2.1)\n",
            "Requirement already satisfied: jupyterlab-pygments in /usr/local/lib/python3.9/dist-packages (from nbconvert->notebook>=4.4.1->widgetsnbextension~=3.6.0->ipywidgets) (0.2.2)\n",
            "Requirement already satisfied: nbclient>=0.5.0 in /usr/local/lib/python3.9/dist-packages (from nbconvert->notebook>=4.4.1->widgetsnbextension~=3.6.0->ipywidgets) (0.7.3)\n",
            "Requirement already satisfied: packaging in /usr/local/lib/python3.9/dist-packages (from nbconvert->notebook>=4.4.1->widgetsnbextension~=3.6.0->ipywidgets) (23.1)\n",
            "Requirement already satisfied: fastjsonschema in /usr/local/lib/python3.9/dist-packages (from nbformat->notebook>=4.4.1->widgetsnbextension~=3.6.0->ipywidgets) (2.16.3)\n",
            "Requirement already satisfied: jsonschema>=2.6 in /usr/local/lib/python3.9/dist-packages (from nbformat->notebook>=4.4.1->widgetsnbextension~=3.6.0->ipywidgets) (4.3.3)\n",
            "Requirement already satisfied: attrs>=17.4.0 in /usr/local/lib/python3.9/dist-packages (from jsonschema>=2.6->nbformat->notebook>=4.4.1->widgetsnbextension~=3.6.0->ipywidgets) (23.1.0)\n",
            "Requirement already satisfied: pyrsistent!=0.17.0,!=0.17.1,!=0.17.2,>=0.14.0 in /usr/local/lib/python3.9/dist-packages (from jsonschema>=2.6->nbformat->notebook>=4.4.1->widgetsnbextension~=3.6.0->ipywidgets) (0.19.3)\n",
            "Requirement already satisfied: cffi>=1.0.1 in /usr/local/lib/python3.9/dist-packages (from argon2-cffi-bindings->argon2-cffi->notebook>=4.4.1->widgetsnbextension~=3.6.0->ipywidgets) (1.15.1)\n",
            "Requirement already satisfied: soupsieve>1.2 in /usr/local/lib/python3.9/dist-packages (from beautifulsoup4->nbconvert->notebook>=4.4.1->widgetsnbextension~=3.6.0->ipywidgets) (2.4.1)\n",
            "Requirement already satisfied: webencodings in /usr/local/lib/python3.9/dist-packages (from bleach->nbconvert->notebook>=4.4.1->widgetsnbextension~=3.6.0->ipywidgets) (0.5.1)\n",
            "Requirement already satisfied: pycparser in /usr/local/lib/python3.9/dist-packages (from cffi>=1.0.1->argon2-cffi-bindings->argon2-cffi->notebook>=4.4.1->widgetsnbextension~=3.6.0->ipywidgets) (2.21)\n",
            "Installing collected packages: jedi\n",
            "Successfully installed jedi-0.18.2\n",
            "Enabling notebook extension jupyter-js-widgets/extension...\n",
            "Paths used for configuration of notebook: \n",
            "    \t/root/.jupyter/nbconfig/notebook.json\n",
            "Paths used for configuration of notebook: \n",
            "    \t\n",
            "      - Validating: \u001b[32mOK\u001b[0m\n",
            "Paths used for configuration of notebook: \n",
            "    \t/root/.jupyter/nbconfig/notebook.json\n"
          ]
        }
      ],
      "source": [
        "!pip install catboost\n",
        "!pip install scikit-learn\n",
        "!pip install ipywidgets\n",
        "!jupyter nbextension enable --py widgetsnbextension\n"
      ]
    },
    {
      "cell_type": "code",
      "execution_count": null,
      "id": "6e3df41e",
      "metadata": {
        "id": "6e3df41e"
      },
      "outputs": [],
      "source": [
        "#1. Loading Module\n",
        "#basic\n",
        "import os\n",
        "os.environ['OPENBLAS_NUM_THREADS'] = '1'\n",
        "os.environ[\"CUDA_VISIBLE_DEVICES\"] = \"0\"\n",
        "import gc    #memory manage\n",
        "\n",
        "import math\n",
        "import numpy as np\n",
        "import pandas as pd\n",
        "\n",
        "#draw figure\n",
        "import seaborn as sns\n",
        "import matplotlib.pyplot as plt\n",
        "\n",
        "#preprocessing\n",
        "from sklearn.preprocessing import LabelEncoder\n",
        "from sklearn.preprocessing import OneHotEncoder\n",
        "from collections import Counter\n",
        "\n",
        "#Feature Selection\n",
        "\n",
        "from sklearn.model_selection import cross_val_score\n",
        "from sklearn.model_selection import StratifiedKFold\n",
        "\n",
        "from sklearn.feature_selection import VarianceThreshold\n",
        "from sklearn.feature_selection import SelectKBest\n",
        "from sklearn.feature_selection import chi2\n",
        "\n",
        "from sklearn.preprocessing import MinMaxScaler\n",
        "from sklearn.preprocessing import StandardScaler\n",
        "\n",
        "#model\n",
        "from sklearn.neighbors import KNeighborsClassifier\n",
        "\n",
        "from sklearn.ensemble import RandomForestClassifier\n",
        "from sklearn.ensemble import GradientBoostingClassifier\n",
        "from sklearn.ensemble import ExtraTreesClassifier\n",
        "\n",
        "from xgboost import XGBClassifier\n",
        "from lightgbm import LGBMClassifier\n",
        "from catboost import CatBoostClassifier\n",
        "\n",
        "from sklearn.ensemble import StackingClassifier\n",
        "from sklearn.linear_model import LogisticRegressionCV\n",
        "\n",
        "#metrics\n",
        "from sklearn import model_selection,feature_selection,utils,ensemble,metrics\n",
        "\n",
        "#over-sampling and under sampling\n",
        "from imblearn.combine import SMOTEENN\n",
        "from imblearn.over_sampling import SMOTE\n",
        "\n",
        "#time\n",
        "from time import time\n",
        "import datetime\n",
        "\n",
        "#ROC   09/12/2022 LiFan\n",
        "from sklearn.metrics import RocCurveDisplay\n",
        "from sklearn.metrics import roc_curve, auc\n",
        "from itertools import cycle"
      ]
    },
    {
      "cell_type": "code",
      "source": [
        "from google.colab import drive\n",
        "drive.mount('/content/drive')"
      ],
      "metadata": {
        "colab": {
          "base_uri": "https://localhost:8080/"
        },
        "id": "aIp9g7NBNTb4",
        "outputId": "08c0d4f7-e78f-475f-f9b2-4ab61990a6db"
      },
      "id": "aIp9g7NBNTb4",
      "execution_count": null,
      "outputs": [
        {
          "output_type": "stream",
          "name": "stdout",
          "text": [
            "Mounted at /content/drive\n"
          ]
        }
      ]
    },
    {
      "cell_type": "code",
      "execution_count": null,
      "id": "c58e2b8b",
      "metadata": {
        "id": "c58e2b8b"
      },
      "outputs": [],
      "source": [
        "f1=pd.read_csv(\"/content/drive/MyDrive/MachineLearningCVE/Monday-WorkingHours.pcap_ISCX.csv\")\n",
        "\n",
        "f2=pd.read_csv(\"/content/drive/MyDrive/MachineLearningCVE/Tuesday-WorkingHours.pcap_ISCX.csv\")\n",
        "#Wed benign\n",
        "\n",
        "f3=pd.read_csv(\"/content/drive/MyDrive/MachineLearningCVE/Wednesday-workingHours.pcap_ISCX.csv\")\n",
        "#Thur WebAttack\n",
        "\n",
        "f41=pd.read_csv(\"/content/drive/MyDrive/MachineLearningCVE/Thursday-WorkingHours-Morning-WebAttacks.pcap_ISCX.csv\")\n",
        "f42=pd.read_csv(\"/content/drive/MyDrive/MachineLearningCVE/Thursday-WorkingHours-Afternoon-Infilteration.pcap_ISCX.csv\")\n",
        "#Fri Benign DDos PortScan\n",
        "\n",
        "f51=pd.read_csv(\"/content/drive/MyDrive/MachineLearningCVE/Friday-WorkingHours-Morning.pcap_ISCX.csv\")\n",
        "\n",
        "f52=pd.read_csv(\"/content/drive/MyDrive/MachineLearningCVE/Friday-WorkingHours-Afternoon-PortScan.pcap_ISCX.csv\")\n",
        "\n",
        "f53=pd.read_csv(\"/content/drive/MyDrive/MachineLearningCVE/Friday-WorkingHours-Afternoon-DDos.pcap_ISCX.csv\")\n"
      ]
    },
    {
      "cell_type": "code",
      "execution_count": null,
      "id": "383f6514",
      "metadata": {
        "colab": {
          "base_uri": "https://localhost:8080/"
        },
        "id": "383f6514",
        "outputId": "dc634b7f-5f42-45d1-96f7-a9970faf94aa"
      },
      "outputs": [
        {
          "output_type": "execute_result",
          "data": {
            "text/plain": [
              "(975827, 79)"
            ]
          },
          "metadata": {},
          "execution_count": 20
        }
      ],
      "source": [
        "data=pd.concat((f1,f2))\n",
        "data.reset_index(inplace=True,drop=True) # duplicate index exist, reset index\n",
        "data.shape"
      ]
    },
    {
      "cell_type": "code",
      "execution_count": null,
      "id": "64632bd6",
      "metadata": {
        "colab": {
          "base_uri": "https://localhost:8080/",
          "height": 539
        },
        "id": "64632bd6",
        "outputId": "fec52924-0b15-433b-9c8b-157227a8d85e"
      },
      "outputs": [
        {
          "output_type": "execute_result",
          "data": {
            "text/plain": [
              "         Destination Port   Flow Duration   Total Fwd Packets  \\\n",
              "0                   49188               4                   2   \n",
              "1                   49188               1                   2   \n",
              "2                   49188               1                   2   \n",
              "3                   49188               1                   2   \n",
              "4                   49486               3                   2   \n",
              "...                   ...             ...                 ...   \n",
              "975822                 53             155                   2   \n",
              "975823              59317             110                   1   \n",
              "975824                 53             166                   2   \n",
              "975825              54726              81                   1   \n",
              "975826                 53             202                   2   \n",
              "\n",
              "         Total Backward Packets  Total Length of Fwd Packets  \\\n",
              "0                             0                           12   \n",
              "1                             0                           12   \n",
              "2                             0                           12   \n",
              "3                             0                           12   \n",
              "4                             0                           12   \n",
              "...                         ...                          ...   \n",
              "975822                        2                           88   \n",
              "975823                        1                            0   \n",
              "975824                        2                           88   \n",
              "975825                        1                            0   \n",
              "975826                        2                          102   \n",
              "\n",
              "         Total Length of Bwd Packets   Fwd Packet Length Max  \\\n",
              "0                                  0                       6   \n",
              "1                                  0                       6   \n",
              "2                                  0                       6   \n",
              "3                                  0                       6   \n",
              "4                                  0                       6   \n",
              "...                              ...                     ...   \n",
              "975822                           120                      44   \n",
              "975823                             0                       0   \n",
              "975824                           188                      44   \n",
              "975825                             0                       0   \n",
              "975826                           158                      51   \n",
              "\n",
              "         Fwd Packet Length Min   Fwd Packet Length Mean  \\\n",
              "0                            6                      6.0   \n",
              "1                            6                      6.0   \n",
              "2                            6                      6.0   \n",
              "3                            6                      6.0   \n",
              "4                            6                      6.0   \n",
              "...                        ...                      ...   \n",
              "975822                      44                     44.0   \n",
              "975823                       0                      0.0   \n",
              "975824                      44                     44.0   \n",
              "975825                       0                      0.0   \n",
              "975826                      51                     51.0   \n",
              "\n",
              "         Fwd Packet Length Std  ...   min_seg_size_forward  Active Mean  \\\n",
              "0                          0.0  ...                     20          0.0   \n",
              "1                          0.0  ...                     20          0.0   \n",
              "2                          0.0  ...                     20          0.0   \n",
              "3                          0.0  ...                     20          0.0   \n",
              "4                          0.0  ...                     20          0.0   \n",
              "...                        ...  ...                    ...          ...   \n",
              "975822                     0.0  ...                     32          0.0   \n",
              "975823                     0.0  ...                     20          0.0   \n",
              "975824                     0.0  ...                     32          0.0   \n",
              "975825                     0.0  ...                     32          0.0   \n",
              "975826                     0.0  ...                     20          0.0   \n",
              "\n",
              "         Active Std   Active Max   Active Min  Idle Mean   Idle Std  \\\n",
              "0               0.0            0            0        0.0        0.0   \n",
              "1               0.0            0            0        0.0        0.0   \n",
              "2               0.0            0            0        0.0        0.0   \n",
              "3               0.0            0            0        0.0        0.0   \n",
              "4               0.0            0            0        0.0        0.0   \n",
              "...             ...          ...          ...        ...        ...   \n",
              "975822          0.0            0            0        0.0        0.0   \n",
              "975823          0.0            0            0        0.0        0.0   \n",
              "975824          0.0            0            0        0.0        0.0   \n",
              "975825          0.0            0            0        0.0        0.0   \n",
              "975826          0.0            0            0        0.0        0.0   \n",
              "\n",
              "         Idle Max   Idle Min   Label  \n",
              "0               0          0  BENIGN  \n",
              "1               0          0  BENIGN  \n",
              "2               0          0  BENIGN  \n",
              "3               0          0  BENIGN  \n",
              "4               0          0  BENIGN  \n",
              "...           ...        ...     ...  \n",
              "975822          0          0  BENIGN  \n",
              "975823          0          0  BENIGN  \n",
              "975824          0          0  BENIGN  \n",
              "975825          0          0  BENIGN  \n",
              "975826          0          0  BENIGN  \n",
              "\n",
              "[975827 rows x 79 columns]"
            ],
            "text/html": [
              "\n",
              "  <div id=\"df-da30e532-779b-4cb6-8e9c-6214620cbe35\">\n",
              "    <div class=\"colab-df-container\">\n",
              "      <div>\n",
              "<style scoped>\n",
              "    .dataframe tbody tr th:only-of-type {\n",
              "        vertical-align: middle;\n",
              "    }\n",
              "\n",
              "    .dataframe tbody tr th {\n",
              "        vertical-align: top;\n",
              "    }\n",
              "\n",
              "    .dataframe thead th {\n",
              "        text-align: right;\n",
              "    }\n",
              "</style>\n",
              "<table border=\"1\" class=\"dataframe\">\n",
              "  <thead>\n",
              "    <tr style=\"text-align: right;\">\n",
              "      <th></th>\n",
              "      <th>Destination Port</th>\n",
              "      <th>Flow Duration</th>\n",
              "      <th>Total Fwd Packets</th>\n",
              "      <th>Total Backward Packets</th>\n",
              "      <th>Total Length of Fwd Packets</th>\n",
              "      <th>Total Length of Bwd Packets</th>\n",
              "      <th>Fwd Packet Length Max</th>\n",
              "      <th>Fwd Packet Length Min</th>\n",
              "      <th>Fwd Packet Length Mean</th>\n",
              "      <th>Fwd Packet Length Std</th>\n",
              "      <th>...</th>\n",
              "      <th>min_seg_size_forward</th>\n",
              "      <th>Active Mean</th>\n",
              "      <th>Active Std</th>\n",
              "      <th>Active Max</th>\n",
              "      <th>Active Min</th>\n",
              "      <th>Idle Mean</th>\n",
              "      <th>Idle Std</th>\n",
              "      <th>Idle Max</th>\n",
              "      <th>Idle Min</th>\n",
              "      <th>Label</th>\n",
              "    </tr>\n",
              "  </thead>\n",
              "  <tbody>\n",
              "    <tr>\n",
              "      <th>0</th>\n",
              "      <td>49188</td>\n",
              "      <td>4</td>\n",
              "      <td>2</td>\n",
              "      <td>0</td>\n",
              "      <td>12</td>\n",
              "      <td>0</td>\n",
              "      <td>6</td>\n",
              "      <td>6</td>\n",
              "      <td>6.0</td>\n",
              "      <td>0.0</td>\n",
              "      <td>...</td>\n",
              "      <td>20</td>\n",
              "      <td>0.0</td>\n",
              "      <td>0.0</td>\n",
              "      <td>0</td>\n",
              "      <td>0</td>\n",
              "      <td>0.0</td>\n",
              "      <td>0.0</td>\n",
              "      <td>0</td>\n",
              "      <td>0</td>\n",
              "      <td>BENIGN</td>\n",
              "    </tr>\n",
              "    <tr>\n",
              "      <th>1</th>\n",
              "      <td>49188</td>\n",
              "      <td>1</td>\n",
              "      <td>2</td>\n",
              "      <td>0</td>\n",
              "      <td>12</td>\n",
              "      <td>0</td>\n",
              "      <td>6</td>\n",
              "      <td>6</td>\n",
              "      <td>6.0</td>\n",
              "      <td>0.0</td>\n",
              "      <td>...</td>\n",
              "      <td>20</td>\n",
              "      <td>0.0</td>\n",
              "      <td>0.0</td>\n",
              "      <td>0</td>\n",
              "      <td>0</td>\n",
              "      <td>0.0</td>\n",
              "      <td>0.0</td>\n",
              "      <td>0</td>\n",
              "      <td>0</td>\n",
              "      <td>BENIGN</td>\n",
              "    </tr>\n",
              "    <tr>\n",
              "      <th>2</th>\n",
              "      <td>49188</td>\n",
              "      <td>1</td>\n",
              "      <td>2</td>\n",
              "      <td>0</td>\n",
              "      <td>12</td>\n",
              "      <td>0</td>\n",
              "      <td>6</td>\n",
              "      <td>6</td>\n",
              "      <td>6.0</td>\n",
              "      <td>0.0</td>\n",
              "      <td>...</td>\n",
              "      <td>20</td>\n",
              "      <td>0.0</td>\n",
              "      <td>0.0</td>\n",
              "      <td>0</td>\n",
              "      <td>0</td>\n",
              "      <td>0.0</td>\n",
              "      <td>0.0</td>\n",
              "      <td>0</td>\n",
              "      <td>0</td>\n",
              "      <td>BENIGN</td>\n",
              "    </tr>\n",
              "    <tr>\n",
              "      <th>3</th>\n",
              "      <td>49188</td>\n",
              "      <td>1</td>\n",
              "      <td>2</td>\n",
              "      <td>0</td>\n",
              "      <td>12</td>\n",
              "      <td>0</td>\n",
              "      <td>6</td>\n",
              "      <td>6</td>\n",
              "      <td>6.0</td>\n",
              "      <td>0.0</td>\n",
              "      <td>...</td>\n",
              "      <td>20</td>\n",
              "      <td>0.0</td>\n",
              "      <td>0.0</td>\n",
              "      <td>0</td>\n",
              "      <td>0</td>\n",
              "      <td>0.0</td>\n",
              "      <td>0.0</td>\n",
              "      <td>0</td>\n",
              "      <td>0</td>\n",
              "      <td>BENIGN</td>\n",
              "    </tr>\n",
              "    <tr>\n",
              "      <th>4</th>\n",
              "      <td>49486</td>\n",
              "      <td>3</td>\n",
              "      <td>2</td>\n",
              "      <td>0</td>\n",
              "      <td>12</td>\n",
              "      <td>0</td>\n",
              "      <td>6</td>\n",
              "      <td>6</td>\n",
              "      <td>6.0</td>\n",
              "      <td>0.0</td>\n",
              "      <td>...</td>\n",
              "      <td>20</td>\n",
              "      <td>0.0</td>\n",
              "      <td>0.0</td>\n",
              "      <td>0</td>\n",
              "      <td>0</td>\n",
              "      <td>0.0</td>\n",
              "      <td>0.0</td>\n",
              "      <td>0</td>\n",
              "      <td>0</td>\n",
              "      <td>BENIGN</td>\n",
              "    </tr>\n",
              "    <tr>\n",
              "      <th>...</th>\n",
              "      <td>...</td>\n",
              "      <td>...</td>\n",
              "      <td>...</td>\n",
              "      <td>...</td>\n",
              "      <td>...</td>\n",
              "      <td>...</td>\n",
              "      <td>...</td>\n",
              "      <td>...</td>\n",
              "      <td>...</td>\n",
              "      <td>...</td>\n",
              "      <td>...</td>\n",
              "      <td>...</td>\n",
              "      <td>...</td>\n",
              "      <td>...</td>\n",
              "      <td>...</td>\n",
              "      <td>...</td>\n",
              "      <td>...</td>\n",
              "      <td>...</td>\n",
              "      <td>...</td>\n",
              "      <td>...</td>\n",
              "      <td>...</td>\n",
              "    </tr>\n",
              "    <tr>\n",
              "      <th>975822</th>\n",
              "      <td>53</td>\n",
              "      <td>155</td>\n",
              "      <td>2</td>\n",
              "      <td>2</td>\n",
              "      <td>88</td>\n",
              "      <td>120</td>\n",
              "      <td>44</td>\n",
              "      <td>44</td>\n",
              "      <td>44.0</td>\n",
              "      <td>0.0</td>\n",
              "      <td>...</td>\n",
              "      <td>32</td>\n",
              "      <td>0.0</td>\n",
              "      <td>0.0</td>\n",
              "      <td>0</td>\n",
              "      <td>0</td>\n",
              "      <td>0.0</td>\n",
              "      <td>0.0</td>\n",
              "      <td>0</td>\n",
              "      <td>0</td>\n",
              "      <td>BENIGN</td>\n",
              "    </tr>\n",
              "    <tr>\n",
              "      <th>975823</th>\n",
              "      <td>59317</td>\n",
              "      <td>110</td>\n",
              "      <td>1</td>\n",
              "      <td>1</td>\n",
              "      <td>0</td>\n",
              "      <td>0</td>\n",
              "      <td>0</td>\n",
              "      <td>0</td>\n",
              "      <td>0.0</td>\n",
              "      <td>0.0</td>\n",
              "      <td>...</td>\n",
              "      <td>20</td>\n",
              "      <td>0.0</td>\n",
              "      <td>0.0</td>\n",
              "      <td>0</td>\n",
              "      <td>0</td>\n",
              "      <td>0.0</td>\n",
              "      <td>0.0</td>\n",
              "      <td>0</td>\n",
              "      <td>0</td>\n",
              "      <td>BENIGN</td>\n",
              "    </tr>\n",
              "    <tr>\n",
              "      <th>975824</th>\n",
              "      <td>53</td>\n",
              "      <td>166</td>\n",
              "      <td>2</td>\n",
              "      <td>2</td>\n",
              "      <td>88</td>\n",
              "      <td>188</td>\n",
              "      <td>44</td>\n",
              "      <td>44</td>\n",
              "      <td>44.0</td>\n",
              "      <td>0.0</td>\n",
              "      <td>...</td>\n",
              "      <td>32</td>\n",
              "      <td>0.0</td>\n",
              "      <td>0.0</td>\n",
              "      <td>0</td>\n",
              "      <td>0</td>\n",
              "      <td>0.0</td>\n",
              "      <td>0.0</td>\n",
              "      <td>0</td>\n",
              "      <td>0</td>\n",
              "      <td>BENIGN</td>\n",
              "    </tr>\n",
              "    <tr>\n",
              "      <th>975825</th>\n",
              "      <td>54726</td>\n",
              "      <td>81</td>\n",
              "      <td>1</td>\n",
              "      <td>1</td>\n",
              "      <td>0</td>\n",
              "      <td>0</td>\n",
              "      <td>0</td>\n",
              "      <td>0</td>\n",
              "      <td>0.0</td>\n",
              "      <td>0.0</td>\n",
              "      <td>...</td>\n",
              "      <td>32</td>\n",
              "      <td>0.0</td>\n",
              "      <td>0.0</td>\n",
              "      <td>0</td>\n",
              "      <td>0</td>\n",
              "      <td>0.0</td>\n",
              "      <td>0.0</td>\n",
              "      <td>0</td>\n",
              "      <td>0</td>\n",
              "      <td>BENIGN</td>\n",
              "    </tr>\n",
              "    <tr>\n",
              "      <th>975826</th>\n",
              "      <td>53</td>\n",
              "      <td>202</td>\n",
              "      <td>2</td>\n",
              "      <td>2</td>\n",
              "      <td>102</td>\n",
              "      <td>158</td>\n",
              "      <td>51</td>\n",
              "      <td>51</td>\n",
              "      <td>51.0</td>\n",
              "      <td>0.0</td>\n",
              "      <td>...</td>\n",
              "      <td>20</td>\n",
              "      <td>0.0</td>\n",
              "      <td>0.0</td>\n",
              "      <td>0</td>\n",
              "      <td>0</td>\n",
              "      <td>0.0</td>\n",
              "      <td>0.0</td>\n",
              "      <td>0</td>\n",
              "      <td>0</td>\n",
              "      <td>BENIGN</td>\n",
              "    </tr>\n",
              "  </tbody>\n",
              "</table>\n",
              "<p>975827 rows × 79 columns</p>\n",
              "</div>\n",
              "      <button class=\"colab-df-convert\" onclick=\"convertToInteractive('df-da30e532-779b-4cb6-8e9c-6214620cbe35')\"\n",
              "              title=\"Convert this dataframe to an interactive table.\"\n",
              "              style=\"display:none;\">\n",
              "        \n",
              "  <svg xmlns=\"http://www.w3.org/2000/svg\" height=\"24px\"viewBox=\"0 0 24 24\"\n",
              "       width=\"24px\">\n",
              "    <path d=\"M0 0h24v24H0V0z\" fill=\"none\"/>\n",
              "    <path d=\"M18.56 5.44l.94 2.06.94-2.06 2.06-.94-2.06-.94-.94-2.06-.94 2.06-2.06.94zm-11 1L8.5 8.5l.94-2.06 2.06-.94-2.06-.94L8.5 2.5l-.94 2.06-2.06.94zm10 10l.94 2.06.94-2.06 2.06-.94-2.06-.94-.94-2.06-.94 2.06-2.06.94z\"/><path d=\"M17.41 7.96l-1.37-1.37c-.4-.4-.92-.59-1.43-.59-.52 0-1.04.2-1.43.59L10.3 9.45l-7.72 7.72c-.78.78-.78 2.05 0 2.83L4 21.41c.39.39.9.59 1.41.59.51 0 1.02-.2 1.41-.59l7.78-7.78 2.81-2.81c.8-.78.8-2.07 0-2.86zM5.41 20L4 18.59l7.72-7.72 1.47 1.35L5.41 20z\"/>\n",
              "  </svg>\n",
              "      </button>\n",
              "      \n",
              "  <style>\n",
              "    .colab-df-container {\n",
              "      display:flex;\n",
              "      flex-wrap:wrap;\n",
              "      gap: 12px;\n",
              "    }\n",
              "\n",
              "    .colab-df-convert {\n",
              "      background-color: #E8F0FE;\n",
              "      border: none;\n",
              "      border-radius: 50%;\n",
              "      cursor: pointer;\n",
              "      display: none;\n",
              "      fill: #1967D2;\n",
              "      height: 32px;\n",
              "      padding: 0 0 0 0;\n",
              "      width: 32px;\n",
              "    }\n",
              "\n",
              "    .colab-df-convert:hover {\n",
              "      background-color: #E2EBFA;\n",
              "      box-shadow: 0px 1px 2px rgba(60, 64, 67, 0.3), 0px 1px 3px 1px rgba(60, 64, 67, 0.15);\n",
              "      fill: #174EA6;\n",
              "    }\n",
              "\n",
              "    [theme=dark] .colab-df-convert {\n",
              "      background-color: #3B4455;\n",
              "      fill: #D2E3FC;\n",
              "    }\n",
              "\n",
              "    [theme=dark] .colab-df-convert:hover {\n",
              "      background-color: #434B5C;\n",
              "      box-shadow: 0px 1px 3px 1px rgba(0, 0, 0, 0.15);\n",
              "      filter: drop-shadow(0px 1px 2px rgba(0, 0, 0, 0.3));\n",
              "      fill: #FFFFFF;\n",
              "    }\n",
              "  </style>\n",
              "\n",
              "      <script>\n",
              "        const buttonEl =\n",
              "          document.querySelector('#df-da30e532-779b-4cb6-8e9c-6214620cbe35 button.colab-df-convert');\n",
              "        buttonEl.style.display =\n",
              "          google.colab.kernel.accessAllowed ? 'block' : 'none';\n",
              "\n",
              "        async function convertToInteractive(key) {\n",
              "          const element = document.querySelector('#df-da30e532-779b-4cb6-8e9c-6214620cbe35');\n",
              "          const dataTable =\n",
              "            await google.colab.kernel.invokeFunction('convertToInteractive',\n",
              "                                                     [key], {});\n",
              "          if (!dataTable) return;\n",
              "\n",
              "          const docLinkHtml = 'Like what you see? Visit the ' +\n",
              "            '<a target=\"_blank\" href=https://colab.research.google.com/notebooks/data_table.ipynb>data table notebook</a>'\n",
              "            + ' to learn more about interactive tables.';\n",
              "          element.innerHTML = '';\n",
              "          dataTable['output_type'] = 'display_data';\n",
              "          await google.colab.output.renderOutput(dataTable, element);\n",
              "          const docLink = document.createElement('div');\n",
              "          docLink.innerHTML = docLinkHtml;\n",
              "          element.appendChild(docLink);\n",
              "        }\n",
              "      </script>\n",
              "    </div>\n",
              "  </div>\n",
              "  "
            ]
          },
          "metadata": {},
          "execution_count": 21
        }
      ],
      "source": [
        "data"
      ]
    },
    {
      "cell_type": "code",
      "execution_count": null,
      "id": "283c7e69",
      "metadata": {
        "id": "283c7e69"
      },
      "outputs": [],
      "source": [
        "# too few samples in some subclasses of Web Attack, and they are combined into one class.\n",
        "#Tuesday Brute Force\n",
        "data[' Label'].replace(\"FTP-Patator\",\"BruteForce\",inplace=True,regex=True)\n",
        "data[' Label'].replace(\"SSH-Patator\",\"BruteForce\",inplace=True,regex=True)\n",
        "#Thursday Web Attack\n",
        "data[' Label'].replace(\"Web Attack .*\",\"Web Attack\",inplace=True,regex=True)\n",
        "#DoS \n",
        "data[' Label'].replace(\"DoS .*\",\"DoS\",inplace=True,regex=True)\n",
        "data[' Label'].replace(\"DDoS\",\"DoS\",inplace=True,regex=True)"
      ]
    },
    {
      "cell_type": "code",
      "execution_count": null,
      "id": "3e97dc8c",
      "metadata": {
        "colab": {
          "base_uri": "https://localhost:8080/"
        },
        "id": "3e97dc8c",
        "outputId": "5d52cb18-5c59-4fcf-ed00-e14b7e9a64f6"
      },
      "outputs": [
        {
          "output_type": "execute_result",
          "data": {
            "text/plain": [
              "BENIGN        961992\n",
              "BruteForce     13835\n",
              "Name:  Label, dtype: int64"
            ]
          },
          "metadata": {},
          "execution_count": 23
        }
      ],
      "source": [
        "target_count_new=data[' Label'].value_counts(0)\n",
        "target_count_new"
      ]
    },
    {
      "cell_type": "code",
      "execution_count": null,
      "id": "146ba814",
      "metadata": {
        "id": "146ba814"
      },
      "outputs": [],
      "source": [
        "labels_new,values_new=zip(*sorted(target_count_new.items()))"
      ]
    },
    {
      "cell_type": "code",
      "execution_count": null,
      "id": "2b02ba74",
      "metadata": {
        "colab": {
          "base_uri": "https://localhost:8080/",
          "height": 549
        },
        "id": "2b02ba74",
        "outputId": "9806dd71-0a73-4e75-baf7-b55ac063a675"
      },
      "outputs": [
        {
          "output_type": "display_data",
          "data": {
            "text/plain": [
              "<Figure size 4500x1800 with 1 Axes>"
            ],
            "image/png": "[encoded data removed]"
          },
          "metadata": {}
        }
      ],
      "source": [
        "plt.figure(dpi=300,figsize=(15,6))\n",
        "plt.bar(labels_new,values_new)\n",
        "for x_new,y_new in zip(labels_new,values_new):\n",
        "    plt.text(x_new,y_new,y_new,ha=\"center\",va=\"bottom\")\n",
        "plt.xticks(fontsize=12,rotation=-90)\n",
        "plt.xlabel(\"8 Categories\",fontsize=16)\n",
        "plt.ylabel(\"Count\",fontsize=16)\n",
        "plt.show()"
      ]
    },
    {
      "cell_type": "code",
      "execution_count": null,
      "id": "f6b9c003",
      "metadata": {
        "id": "f6b9c003"
      },
      "outputs": [],
      "source": [
        "#3. Preprocessing\n",
        "#3.1 remove useless data\n",
        "#remove duplicate row\n",
        "data=data.drop_duplicates()\n",
        "#remove rows with null value and infinite value\n",
        "data=data.replace(np.inf,np.nan)\n",
        "data=data.dropna()"
      ]
    },
    {
      "cell_type": "code",
      "execution_count": null,
      "id": "2d2ab7e8",
      "metadata": {
        "colab": {
          "base_uri": "https://localhost:8080/"
        },
        "id": "2d2ab7e8",
        "outputId": "64cf688c-46eb-479d-caaa-4e8426de9052"
      },
      "outputs": [
        {
          "output_type": "execute_result",
          "data": {
            "text/plain": [
              "BENIGN        915076\n",
              "BruteForce      9150\n",
              "Name:  Label, dtype: int64"
            ]
          },
          "metadata": {},
          "execution_count": 27
        }
      ],
      "source": [
        "data[' Label'].value_counts()"
      ]
    },
    {
      "cell_type": "code",
      "execution_count": null,
      "id": "cea1d07e",
      "metadata": {
        "colab": {
          "base_uri": "https://localhost:8080/"
        },
        "id": "cea1d07e",
        "outputId": "524e636d-827d-4785-f984-8fe85011ec0b"
      },
      "outputs": [
        {
          "output_type": "stream",
          "name": "stdout",
          "text": [
            "Counter({'BENIGN': 915076, 'BruteForce': 9150})\n"
          ]
        }
      ],
      "source": [
        "X=data.iloc[:,:-1]\n",
        "y=data.iloc[:,-1]\n",
        "print(Counter(y))"
      ]
    },
    {
      "cell_type": "code",
      "execution_count": null,
      "id": "f0adfd67",
      "metadata": {
        "colab": {
          "base_uri": "https://localhost:8080/"
        },
        "id": "f0adfd67",
        "outputId": "58990d25-491d-4730-caa1-cb9bbdcaa7d8"
      },
      "outputs": [
        {
          "output_type": "stream",
          "name": "stdout",
          "text": [
            "Counter({0: 915076, 1: 9150})\n"
          ]
        }
      ],
      "source": [
        "#Label Encoding\n",
        "le=LabelEncoder()\n",
        "le=le.fit(y)\n",
        "le.classes_\n",
        "y=le.transform(y)\n",
        "print(Counter(y))"
      ]
    },
    {
      "cell_type": "code",
      "execution_count": null,
      "id": "c273ad02",
      "metadata": {
        "colab": {
          "base_uri": "https://localhost:8080/"
        },
        "id": "c273ad02",
        "outputId": "2e50f2f3-b821-43d5-d521-d03f8fcec4f5"
      },
      "outputs": [
        {
          "output_type": "execute_result",
          "data": {
            "text/plain": [
              "2823"
            ]
          },
          "metadata": {},
          "execution_count": 30
        }
      ],
      "source": [
        "#Ram Clean\n",
        "del data\n",
        "gc.collect()"
      ]
    },
    {
      "cell_type": "code",
      "execution_count": null,
      "id": "7c2b259b",
      "metadata": {
        "colab": {
          "base_uri": "https://localhost:8080/"
        },
        "id": "7c2b259b",
        "outputId": "b265b17b-0e08-4e1e-fc48-78c86b6008d0"
      },
      "outputs": [
        {
          "output_type": "stream",
          "name": "stdout",
          "text": [
            "No. of training examples: 46211\n",
            "No. of testing examples: 878015\n"
          ]
        }
      ],
      "source": [
        "#3.2 Splitting data\n",
        "X_train,X_test,y_train,y_test=model_selection.train_test_split(X,y,test_size=0.95,random_state=42)\n",
        "print(f\"No. of training examples: {X_train.shape[0]}\")\n",
        "print(f\"No. of testing examples: {X_test.shape[0]}\")"
      ]
    },
    {
      "cell_type": "code",
      "execution_count": null,
      "id": "8b0cb88b",
      "metadata": {
        "colab": {
          "base_uri": "https://localhost:8080/"
        },
        "id": "8b0cb88b",
        "outputId": "b2723909-4abd-4e8a-b907-9b24b6a630a2"
      },
      "outputs": [
        {
          "output_type": "stream",
          "name": "stdout",
          "text": [
            "Counter({0: 45731, 1: 480})\n"
          ]
        }
      ],
      "source": [
        "print(Counter(y_train))"
      ]
    },
    {
      "cell_type": "code",
      "execution_count": null,
      "id": "c4cf8564",
      "metadata": {
        "id": "c4cf8564"
      },
      "outputs": [],
      "source": [
        "#4. Training\n",
        "#4.1 Estimators (level 0)"
      ]
    },
    {
      "cell_type": "code",
      "execution_count": null,
      "id": "64685e37",
      "metadata": {
        "id": "64685e37"
      },
      "outputs": [],
      "source": [
        "rfc=RandomForestClassifier(random_state=12345)"
      ]
    },
    {
      "cell_type": "code",
      "execution_count": null,
      "id": "f576871b",
      "metadata": {
        "id": "f576871b"
      },
      "outputs": [],
      "source": [
        "xtc=ExtraTreesClassifier(random_state=12345)"
      ]
    },
    {
      "cell_type": "code",
      "execution_count": null,
      "id": "ab9cbdfd",
      "metadata": {
        "id": "ab9cbdfd"
      },
      "outputs": [],
      "source": [
        "gbc=GradientBoostingClassifier(n_estimators=10,random_state=123456)"
      ]
    },
    {
      "cell_type": "code",
      "execution_count": null,
      "id": "3121a32c",
      "metadata": {
        "id": "3121a32c"
      },
      "outputs": [],
      "source": [
        "xgbc=XGBClassifier(n_estimators=100,random_state=12345)"
      ]
    },
    {
      "cell_type": "code",
      "execution_count": null,
      "id": "5b02f56c",
      "metadata": {
        "id": "5b02f56c"
      },
      "outputs": [],
      "source": [
        "lgbc=LGBMClassifier(random_state=12345)"
      ]
    },
    {
      "cell_type": "code",
      "execution_count": null,
      "id": "4a4c11e0",
      "metadata": {
        "id": "4a4c11e0"
      },
      "outputs": [],
      "source": [
        "cbc=CatBoostClassifier(random_state=12345)"
      ]
    },
    {
      "cell_type": "code",
      "execution_count": null,
      "id": "40791ec0",
      "metadata": {
        "id": "40791ec0"
      },
      "outputs": [],
      "source": [
        "#estimators=[(\"GradientBoostingClassifier\",gbc),(\"XgboostClassifier\",xgbc),(\"LightGBM\",lgbc),(\"CatBoostingClassifier\",cbc)]\n",
        "#estimators=[(\"XgboostClassifier\",xgbc),(\"LightGBM\",lgbc),(\"CatBoostingClassifier\",cbc)]\n",
        "estimators=[(\"XgboostClassifier\",xgbc)]\n",
        "#final_estimator=RandomForestClassifier(random_state=12345,n_jobs=-1)\n",
        "final_estimator=LogisticRegressionCV(n_jobs=-1)"
      ]
    },
    {
      "cell_type": "code",
      "execution_count": null,
      "id": "6128fd5d",
      "metadata": {
        "id": "6128fd5d"
      },
      "outputs": [],
      "source": [
        "#scv = StratifiedKFold(n_splits=5)"
      ]
    },
    {
      "cell_type": "code",
      "execution_count": null,
      "id": "3f6fe3dd",
      "metadata": {
        "id": "3f6fe3dd"
      },
      "outputs": [],
      "source": [
        "clf=StackingClassifier(estimators=estimators,final_estimator=final_estimator)"
      ]
    },
    {
      "cell_type": "code",
      "source": [
        "time1=time()\n",
        "clf.fit(X_train,y_train)\n",
        "print(\"Time of Training : {:.3f} s\".format(time()-time1))"
      ],
      "metadata": {
        "colab": {
          "base_uri": "https://localhost:8080/"
        },
        "id": "VCP0a5ucRVF2",
        "outputId": "11e42b22-966a-4183-b309-319234f7c930"
      },
      "id": "VCP0a5ucRVF2",
      "execution_count": null,
      "outputs": [
        {
          "output_type": "stream",
          "name": "stdout",
          "text": [
            "Time of Training : 51.903 s\n"
          ]
        }
      ]
    },
    {
      "cell_type": "code",
      "execution_count": null,
      "id": "4a7b5cf8",
      "metadata": {
        "id": "4a7b5cf8"
      },
      "outputs": [],
      "source": [
        "y_pred_train=clf.predict(X_train)\n",
        "y_pred_test=clf.predict(X_test)\n"
      ]
    },
    {
      "cell_type": "code",
      "execution_count": null,
      "id": "186abec3",
      "metadata": {
        "id": "186abec3"
      },
      "outputs": [],
      "source": [
        "y_train_en=OneHotEncoder().fit_transform(pd.DataFrame(y_train)).toarray()"
      ]
    },
    {
      "cell_type": "code",
      "execution_count": null,
      "id": "9261610b",
      "metadata": {
        "id": "9261610b"
      },
      "outputs": [],
      "source": [
        "y_pred_train_en=OneHotEncoder().fit_transform(pd.DataFrame(y_pred_train)).toarray()"
      ]
    },
    {
      "cell_type": "code",
      "execution_count": null,
      "id": "b6d70a0b",
      "metadata": {
        "id": "b6d70a0b",
        "outputId": "d7e8c48d-52aa-4cd9-b232-75602b23653b"
      },
      "outputs": [
        {
          "data": {
            "text/plain": [
              "(array([[1., 0., 0., ..., 0., 0., 0.],\n",
              "        [1., 0., 0., ..., 0., 0., 0.],\n",
              "        [1., 0., 0., ..., 0., 0., 0.],\n",
              "        ...,\n",
              "        [0., 0., 0., ..., 0., 1., 0.],\n",
              "        [0., 0., 0., ..., 0., 0., 0.],\n",
              "        [1., 0., 0., ..., 0., 0., 0.]]),\n",
              " array([[1., 0., 0., ..., 0., 0., 0.],\n",
              "        [1., 0., 0., ..., 0., 0., 0.],\n",
              "        [1., 0., 0., ..., 0., 0., 0.],\n",
              "        ...,\n",
              "        [0., 0., 0., ..., 0., 1., 0.],\n",
              "        [0., 0., 0., ..., 0., 0., 0.],\n",
              "        [1., 0., 0., ..., 0., 0., 0.]]))"
            ]
          },
          "execution_count": 31,
          "metadata": {},
          "output_type": "execute_result"
        }
      ],
      "source": [
        "y_train_en,y_pred_train_en"
      ]
    },
    {
      "cell_type": "code",
      "execution_count": null,
      "id": "a3de68f7",
      "metadata": {
        "id": "a3de68f7"
      },
      "outputs": [],
      "source": [
        "y_test_en=OneHotEncoder().fit_transform(pd.DataFrame(y_test)).toarray()"
      ]
    },
    {
      "cell_type": "code",
      "execution_count": null,
      "id": "3067401c",
      "metadata": {
        "id": "3067401c"
      },
      "outputs": [],
      "source": [
        "y_pred_test_en=OneHotEncoder().fit_transform(pd.DataFrame(y_pred_test)).toarray()"
      ]
    },
    {
      "cell_type": "code",
      "execution_count": null,
      "id": "776530c1",
      "metadata": {
        "colab": {
          "base_uri": "https://localhost:8080/"
        },
        "id": "776530c1",
        "outputId": "553bf67c-35ac-4e13-f6c8-6f86f6db0830"
      },
      "outputs": [
        {
          "output_type": "execute_result",
          "data": {
            "text/plain": [
              "(array([[1., 0.],\n",
              "        [1., 0.],\n",
              "        [1., 0.],\n",
              "        ...,\n",
              "        [1., 0.],\n",
              "        [1., 0.],\n",
              "        [1., 0.]]),\n",
              " array([[1., 0.],\n",
              "        [1., 0.],\n",
              "        [1., 0.],\n",
              "        ...,\n",
              "        [1., 0.],\n",
              "        [1., 0.],\n",
              "        [1., 0.]]))"
            ]
          },
          "metadata": {},
          "execution_count": 65
        }
      ],
      "source": [
        "y_test_en,y_pred_test_en"
      ]
    },
    {
      "cell_type": "code",
      "execution_count": null,
      "id": "aea98c55",
      "metadata": {
        "colab": {
          "base_uri": "https://localhost:8080/"
        },
        "id": "aea98c55",
        "outputId": "f74f87c5-a7a2-4414-edae-8f0f0482b969"
      },
      "outputs": [
        {
          "output_type": "stream",
          "name": "stdout",
          "text": [
            "==Train==\n",
            "[[45731     0]\n",
            " [    0   480]]\n",
            "              precision    recall  f1-score   support\n",
            "\n",
            "           0       1.00      1.00      1.00     45731\n",
            "           1       1.00      1.00      1.00       480\n",
            "\n",
            "    accuracy                           1.00     46211\n",
            "   macro avg       1.00      1.00      1.00     46211\n",
            "weighted avg       1.00      1.00      1.00     46211\n",
            "\n",
            "Accuracy Score =  1.0\n",
            "Precison       =  1.0\n",
            "Recall         =  1.0\n",
            "F1_score       =  1.0\n"
          ]
        }
      ],
      "source": [
        "#5. Result \n",
        "#5.1 Train\n",
        "print(\"==Train==\")\n",
        "result=metrics.confusion_matrix(y_train,y_pred_train)\n",
        "report=metrics.classification_report(y_train,y_pred_train,zero_division=1)\n",
        "\n",
        "print(result)\n",
        "print(report)\n",
        "\n",
        "print(\"Accuracy Score = \",metrics.balanced_accuracy_score(y_train,y_pred_train))\n",
        "print(\"Precison       = \",metrics.precision_score(y_train,y_pred_train,average='macro'))\n",
        "print(\"Recall         = \",metrics.recall_score(y_train,y_pred_train,average='macro'))\n",
        "print(\"F1_score       = \",metrics.f1_score(y_train,y_pred_train,average='macro'))\n"
      ]
    },
    {
      "cell_type": "code",
      "execution_count": null,
      "id": "f7a293f7",
      "metadata": {
        "colab": {
          "base_uri": "https://localhost:8080/"
        },
        "id": "f7a293f7",
        "outputId": "b1c83d63-d8f3-46e2-b3d9-06519792a610"
      },
      "outputs": [
        {
          "output_type": "stream",
          "name": "stdout",
          "text": [
            "Accuracy Score     : 1.0\n",
            "Weighted Precision : 1.0\n",
            "Weighted Recall    : 1.0\n",
            "Weighted F1-score  : 1.0\n"
          ]
        }
      ],
      "source": [
        "precision,recall,fscore,none= metrics.precision_recall_fscore_support(y_train, y_pred_train, average='weighted') \n",
        "print(\"Accuracy Score     : \"+(str(metrics.accuracy_score(y_train,y_pred_train))))\n",
        "print('Weighted Precision : '+(str(precision)))\n",
        "print('Weighted Recall    : '+(str(recall)))\n",
        "print('Weighted F1-score  : '+(str(fscore)))"
      ]
    },
    {
      "cell_type": "code",
      "execution_count": null,
      "id": "fe8997da",
      "metadata": {
        "colab": {
          "base_uri": "https://localhost:8080/"
        },
        "id": "fe8997da",
        "outputId": "f121922f-2fe1-493c-eb3c-c25b5726b171"
      },
      "outputs": [
        {
          "output_type": "stream",
          "name": "stdout",
          "text": [
            "==Test==\n",
            "[[869262     83]\n",
            " [    17   8653]]\n",
            "              precision    recall  f1-score   support\n",
            "\n",
            "           0       1.00      1.00      1.00    869345\n",
            "           1       0.99      1.00      0.99      8670\n",
            "\n",
            "    accuracy                           1.00    878015\n",
            "   macro avg       1.00      1.00      1.00    878015\n",
            "weighted avg       1.00      1.00      1.00    878015\n",
            "\n",
            "Accuracy Score =  0.9989718707537194\n",
            "Precison       =  0.9952397639060415\n",
            "Recall         =  0.9989718707537194\n",
            "F1_score       =  0.9970986689494725\n",
            "Auc score      =  0.9989718707537194\n"
          ]
        }
      ],
      "source": [
        "#5.2 Test\n",
        "print(\"==Test==\")\n",
        "result=metrics.confusion_matrix(y_test,y_pred_test)\n",
        "report=metrics.classification_report(y_test,y_pred_test,zero_division=1)\n",
        "\n",
        "print(result)\n",
        "print(report)\n",
        "\n",
        "print(\"Accuracy Score = \",metrics.balanced_accuracy_score(y_test,y_pred_test))\n",
        "print(\"Precison       = \",metrics.precision_score(y_test,y_pred_test,average='macro'))\n",
        "print(\"Recall         = \",metrics.recall_score(y_test,y_pred_test,average='macro'))\n",
        "print(\"F1_score       = \",metrics.f1_score(y_test,y_pred_test,average='macro'))\n",
        "print(\"Auc score      = \",metrics.roc_auc_score(y_test_en,y_pred_test_en,average='macro'))"
      ]
    },
    {
      "cell_type": "code",
      "execution_count": null,
      "id": "4a358f63",
      "metadata": {
        "scrolled": true,
        "colab": {
          "base_uri": "https://localhost:8080/"
        },
        "id": "4a358f63",
        "outputId": "5504ebe9-6bcc-45ce-bb92-3f8d5df98511"
      },
      "outputs": [
        {
          "output_type": "stream",
          "name": "stdout",
          "text": [
            "Accuracy Score     : 0.9998861067293839\n",
            "Weighted Precision : 0.9998868194389785\n",
            "Weighted Recall    : 0.9998861067293839\n",
            "Weighted F1-score  : 0.9998863204976496\n"
          ]
        }
      ],
      "source": [
        "tprecision,trecall,tfscore,none= metrics.precision_recall_fscore_support(y_test, y_pred_test, average='weighted')\n",
        "print(\"Accuracy Score     : \"+(str(metrics.accuracy_score(y_test,y_pred_test))))\n",
        "print('Weighted Precision : '+(str(tprecision)))\n",
        "print('Weighted Recall    : '+(str(trecall)))\n",
        "print('Weighted F1-score  : '+(str(tfscore)))"
      ]
    },
    {
      "cell_type": "code",
      "execution_count": null,
      "id": "0c5c6609",
      "metadata": {
        "id": "0c5c6609"
      },
      "outputs": [],
      "source": [
        "#6.1 Init\n",
        "class_names=['BENIGN','Bot','BruteForce','DoS','Heartbleed','Infiltration','PortScan','Web Attack']\n",
        "colors=['black','darkorange','forestgreen','navy','red','olive','darkcyan','deeppink']\n",
        "linestyles=['-','--','-.',':','-','--','-.',':']\n",
        "num_class=len(class_names)\n",
        "fpr, tpr, roc_auc = dict(), dict(), dict()"
      ]
    },
    {
      "cell_type": "markdown",
      "id": "9ed75014",
      "metadata": {
        "id": "9ed75014"
      },
      "source": [
        " "
      ]
    },
    {
      "cell_type": "code",
      "execution_count": null,
      "id": "c19e0db1",
      "metadata": {
        "colab": {
          "base_uri": "https://localhost:8080/",
          "height": 235
        },
        "id": "c19e0db1",
        "outputId": "331fd9ad-28a0-4afa-caa9-6b6f3a8e993e"
      },
      "outputs": [
        {
          "output_type": "error",
          "ename": "IndexError",
          "evalue": "ignored",
          "traceback": [
            "\u001b[0;31m---------------------------------------------------------------------------\u001b[0m",
            "\u001b[0;31mIndexError\u001b[0m                                Traceback (most recent call last)",
            "\u001b[0;32m<ipython-input-80-b291d79a03bc>\u001b[0m in \u001b[0;36m<cell line: 2>\u001b[0;34m()\u001b[0m\n\u001b[1;32m      1\u001b[0m \u001b[0;31m#6.2 fpr tpr\u001b[0m\u001b[0;34m\u001b[0m\u001b[0;34m\u001b[0m\u001b[0m\n\u001b[1;32m      2\u001b[0m \u001b[0;32mfor\u001b[0m \u001b[0mi\u001b[0m \u001b[0;32min\u001b[0m \u001b[0mrange\u001b[0m\u001b[0;34m(\u001b[0m\u001b[0mnum_class\u001b[0m\u001b[0;34m)\u001b[0m\u001b[0;34m:\u001b[0m\u001b[0;34m\u001b[0m\u001b[0;34m\u001b[0m\u001b[0m\n\u001b[0;32m----> 3\u001b[0;31m     \u001b[0mfpr\u001b[0m\u001b[0;34m[\u001b[0m\u001b[0mi\u001b[0m\u001b[0;34m]\u001b[0m\u001b[0;34m,\u001b[0m\u001b[0mtpr\u001b[0m\u001b[0;34m[\u001b[0m\u001b[0mi\u001b[0m\u001b[0;34m]\u001b[0m\u001b[0;34m,\u001b[0m\u001b[0m_\u001b[0m\u001b[0;34m=\u001b[0m\u001b[0mroc_curve\u001b[0m\u001b[0;34m(\u001b[0m\u001b[0my_test_en\u001b[0m\u001b[0;34m[\u001b[0m\u001b[0;34m:\u001b[0m\u001b[0;34m,\u001b[0m\u001b[0mi\u001b[0m\u001b[0;34m]\u001b[0m\u001b[0;34m,\u001b[0m\u001b[0my_pred_test_en\u001b[0m\u001b[0;34m[\u001b[0m\u001b[0;34m:\u001b[0m\u001b[0;34m,\u001b[0m\u001b[0mi\u001b[0m\u001b[0;34m]\u001b[0m\u001b[0;34m)\u001b[0m\u001b[0;34m\u001b[0m\u001b[0;34m\u001b[0m\u001b[0m\n\u001b[0m\u001b[1;32m      4\u001b[0m     \u001b[0mroc_auc\u001b[0m\u001b[0;34m[\u001b[0m\u001b[0mi\u001b[0m\u001b[0;34m]\u001b[0m\u001b[0;34m=\u001b[0m\u001b[0mauc\u001b[0m\u001b[0;34m(\u001b[0m\u001b[0mfpr\u001b[0m\u001b[0;34m[\u001b[0m\u001b[0mi\u001b[0m\u001b[0;34m]\u001b[0m\u001b[0;34m,\u001b[0m\u001b[0mtpr\u001b[0m\u001b[0;34m[\u001b[0m\u001b[0mi\u001b[0m\u001b[0;34m]\u001b[0m\u001b[0;34m)\u001b[0m\u001b[0;34m\u001b[0m\u001b[0;34m\u001b[0m\u001b[0m\n\u001b[1;32m      5\u001b[0m \u001b[0mfpr_grid\u001b[0m\u001b[0;34m=\u001b[0m\u001b[0mnp\u001b[0m\u001b[0;34m.\u001b[0m\u001b[0mlinspace\u001b[0m\u001b[0;34m(\u001b[0m\u001b[0;36m0.0\u001b[0m\u001b[0;34m,\u001b[0m\u001b[0;36m1.0\u001b[0m\u001b[0;34m,\u001b[0m\u001b[0;36m1000\u001b[0m\u001b[0;34m)\u001b[0m\u001b[0;34m\u001b[0m\u001b[0;34m\u001b[0m\u001b[0m\n",
            "\u001b[0;31mIndexError\u001b[0m: index 2 is out of bounds for axis 1 with size 2"
          ]
        }
      ],
      "source": [
        "#6.2 fpr tpr \n",
        "for i in range(num_class):\n",
        "    fpr[i],tpr[i],_=roc_curve(y_test_en[:,i],y_pred_test_en[:,i])\n",
        "    roc_auc[i]=auc(fpr[i],tpr[i])\n",
        "fpr_grid=np.linspace(0.0,1.0,1000)\n",
        "\n",
        "mean_tpr=np.zeros_like(fpr_grid)\n",
        "for i in range(num_class):\n",
        "    mean_tpr+=np.interp(fpr_grid,fpr[i],tpr[i])#linear interpolation\n",
        "\n",
        "mean_tpr/=num_class\n",
        "fpr[\"macro\"]=fpr_grid\n",
        "tpr[\"macro\"]=mean_tpr\n",
        "roc_auc[\"macro\"]=auc(fpr[\"macro\"],tpr[\"macro\"])\n",
        "\n",
        "print(f\"Macro-averaged One-vs-Rest ROC AUC score:\\n{roc_auc['macro']:.6f}\")"
      ]
    },
    {
      "cell_type": "code",
      "execution_count": null,
      "id": "b7f1e585",
      "metadata": {
        "colab": {
          "base_uri": "https://localhost:8080/",
          "height": 746
        },
        "id": "b7f1e585",
        "outputId": "73acd22d-dfb3-452b-e209-e107b0c2d2e7"
      },
      "outputs": [
        {
          "output_type": "error",
          "ename": "KeyError",
          "evalue": "ignored",
          "traceback": [
            "\u001b[0;31m---------------------------------------------------------------------------\u001b[0m",
            "\u001b[0;31mKeyError\u001b[0m                                  Traceback (most recent call last)",
            "\u001b[0;32m<ipython-input-76-3f23b57f2887>\u001b[0m in \u001b[0;36m<cell line: 3>\u001b[0;34m()\u001b[0m\n\u001b[1;32m      2\u001b[0m \u001b[0mfig\u001b[0m\u001b[0;34m,\u001b[0m\u001b[0max\u001b[0m\u001b[0;34m=\u001b[0m\u001b[0mplt\u001b[0m\u001b[0;34m.\u001b[0m\u001b[0msubplots\u001b[0m\u001b[0;34m(\u001b[0m\u001b[0mfigsize\u001b[0m\u001b[0;34m=\u001b[0m\u001b[0;34m(\u001b[0m\u001b[0;36m6\u001b[0m\u001b[0;34m,\u001b[0m\u001b[0;36m6\u001b[0m\u001b[0;34m)\u001b[0m\u001b[0;34m)\u001b[0m\u001b[0;34m\u001b[0m\u001b[0;34m\u001b[0m\u001b[0m\n\u001b[1;32m      3\u001b[0m plt.plot(\n\u001b[0;32m----> 4\u001b[0;31m     \u001b[0mfpr\u001b[0m\u001b[0;34m[\u001b[0m\u001b[0;34m\"macro\"\u001b[0m\u001b[0;34m]\u001b[0m\u001b[0;34m,\u001b[0m\u001b[0;34m\u001b[0m\u001b[0;34m\u001b[0m\u001b[0m\n\u001b[0m\u001b[1;32m      5\u001b[0m     \u001b[0mtpr\u001b[0m\u001b[0;34m[\u001b[0m\u001b[0;34m\"macro\"\u001b[0m\u001b[0;34m]\u001b[0m\u001b[0;34m,\u001b[0m\u001b[0;34m\u001b[0m\u001b[0;34m\u001b[0m\u001b[0m\n\u001b[1;32m      6\u001b[0m     \u001b[0mlabel\u001b[0m\u001b[0;34m=\u001b[0m\u001b[0;34mf\"macro-average ROC curve (AUC={roc_auc['macro']:.6f})\"\u001b[0m\u001b[0;34m,\u001b[0m\u001b[0;34m\u001b[0m\u001b[0;34m\u001b[0m\u001b[0m\n",
            "\u001b[0;31mKeyError\u001b[0m: 'macro'"
          ]
        },
        {
          "output_type": "display_data",
          "data": {
            "text/plain": [
              "<Figure size 600x600 with 1 Axes>"
            ],
            "image/png": "[encoded data removed]"
          },
          "metadata": {}
        }
      ],
      "source": [
        "#6.3 Display\n",
        "fig,ax=plt.subplots(figsize=(6,6))\n",
        "plt.plot(\n",
        "    fpr[\"macro\"],\n",
        "    tpr[\"macro\"],\n",
        "    label=f\"macro-average ROC curve (AUC={roc_auc['macro']:.6f})\",\n",
        "    linestyle=\":\",\n",
        "    linewidth=4,\n",
        ")\n",
        "for i in range(num_class):\n",
        "    RocCurveDisplay.from_predictions(\n",
        "    y_test_en[:,i],\n",
        "    y_pred_test_en[:,i],\n",
        "    name=f\"ROC curve for {class_names[i]}\",\n",
        "    color=colors[i],\n",
        "    linestyle=linestyles[i],\n",
        "    ax=ax,\n",
        "    )\n",
        "plt.plot([0, 1], [0, 1], \"k--\", label=\"ROC curve for chance level (AUC = 0.5)\")\n",
        "plt.axis(\"square\")\n",
        "plt.xticks(fontsize=12)\n",
        "plt.yticks(fontsize=12)\n",
        "plt.xlabel(\"False Positive Rate\",fontsize=12)\n",
        "plt.ylabel(\"True Positive Rate\",fontsize=12)\n",
        "plt.title(\"Stacking \\n One-vs-Rest multiclass\",fontsize=14)\n",
        "plt.legend(fontsize=11)\n",
        "plt.show()"
      ]
    },
    {
      "cell_type": "markdown",
      "id": "1c144334",
      "metadata": {
        "id": "1c144334"
      },
      "source": [
        "### Xgboost + LogisticRegression (Original Data)\n",
        "Accuracy Score =  0.9494163118894287  \n",
        "Precison       =  0.9817017338340577  \n",
        "Recall         =  0.9494163118894287  \n",
        "F1_score       =  0.9641099573831886  \n",
        "Auc score      =  0.9745784207103945  "
      ]
    }
  ],
  "metadata": {
    "kernelspec": {
      "display_name": "Python 3 (ipykernel)",
      "language": "python",
      "name": "python3"
    },
    "language_info": {
      "codemirror_mode": {
        "name": "ipython",
        "version": 3
      },
      "file_extension": ".py",
      "mimetype": "text/x-python",
      "name": "python",
      "nbconvert_exporter": "python",
      "pygments_lexer": "ipython3",
      "version": "3.9.12"
    },
    "colab": {
      "provenance": [],
      "include_colab_link": true
    }
  },
  "nbformat": 4,
  "nbformat_minor": 5
}